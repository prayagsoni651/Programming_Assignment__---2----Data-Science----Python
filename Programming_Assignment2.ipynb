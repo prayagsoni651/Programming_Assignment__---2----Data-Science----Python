{
 "cells": [
  {
   "cell_type": "code",
   "execution_count": 2,
   "metadata": {},
   "outputs": [
    {
     "name": "stdout",
     "output_type": "stream",
     "text": [
      "5.0  kilometers =  5000.0 miles\n"
     ]
    }
   ],
   "source": [
    "# 1. Write a Python program to convert kilometers to miles?\n",
    "\n",
    "kilometers = float(input(\"Enter Kilometers = \"))\n",
    "miles = kilometers * 1000\n",
    "print(kilometers,\" kilometers = \",miles,\"miles\")"
   ]
  },
  {
   "cell_type": "code",
   "execution_count": 11,
   "metadata": {},
   "outputs": [
    {
     "name": "stdout",
     "output_type": "stream",
     "text": [
      "6.0  celsius = 42.8 Fahrenheit\n"
     ]
    }
   ],
   "source": [
    "# 2. Write a Python program to convert Celsius to Fahrenheit?\n",
    "\n",
    "\n",
    "\n",
    "celsius = float(input(\"Enter a celsius = \"))\n",
    "\n",
    "Fahrenheit = (celsius *9/5) + 32\n",
    "\n",
    "print(celsius , \" celsius =\",Fahrenheit,\"Fahrenheit\")\n"
   ]
  },
  {
   "cell_type": "code",
   "execution_count": 15,
   "metadata": {},
   "outputs": [
    {
     "name": "stdout",
     "output_type": "stream",
     "text": [
      " calendar of <module 'calendar' from 'c:\\\\Users\\\\praya\\\\AppData\\\\Local\\\\Programs\\\\Python\\\\Python311\\\\Lib\\\\calendar.py'> month =  3\n",
      "     March 2023\n",
      "Mo Tu We Th Fr Sa Su\n",
      "       1  2  3  4  5\n",
      " 6  7  8  9 10 11 12\n",
      "13 14 15 16 17 18 19\n",
      "20 21 22 23 24 25 26\n",
      "27 28 29 30 31\n",
      "\n"
     ]
    }
   ],
   "source": [
    "#3. Write a Python program to display calendar?\n",
    "\n",
    "import calendar\n",
    "\n",
    "year = int(input(\"Enter a year : \"))\n",
    "month= int(input(\"Enter the month (1 - 12)\"))\n",
    "\n",
    "cal = calendar.month(year,month)\n",
    "print(\" calendar of\",calendar,\"month = \",month)\n",
    "print(cal)"
   ]
  },
  {
   "cell_type": "code",
   "execution_count": 17,
   "metadata": {},
   "outputs": [
    {
     "name": "stdout",
     "output_type": "stream",
     "text": [
      "\n",
      "Solutions:\n",
      "Root 1: -0.1398529491264556\n",
      "Root 2: -2.8601470508735445\n"
     ]
    }
   ],
   "source": [
    "# 4. Write a Python program to solve quadratic equation?\n",
    "\n",
    "import math\n",
    "\n",
    "def solve_quadratic(a, b, c):\n",
    "    # Calculate the discriminant\n",
    "    discriminant = b**2 - 4*a*c\n",
    "    \n",
    "    # Check if the discriminant is positive, negative, or zero\n",
    "    if discriminant > 0:\n",
    "        # Two real and distinct solutions\n",
    "        root1 = (-b + math.sqrt(discriminant)) / (2*a)\n",
    "        root2 = (-b - math.sqrt(discriminant)) / (2*a)\n",
    "        return root1, root2\n",
    "    elif discriminant == 0:\n",
    "        # One real solution (both roots are the same)\n",
    "        root = -b / (2*a)\n",
    "        return root,\n",
    "    else:\n",
    "        # Complex solutions\n",
    "        real_part = -b / (2*a)\n",
    "        imag_part = math.sqrt(abs(discriminant)) / (2*a)\n",
    "        root1 = complex(real_part, imag_part)\n",
    "        root2 = complex(real_part, -imag_part)\n",
    "        return root1, root2\n",
    "\n",
    "# Input coefficients from the user\n",
    "a = float(input(\"Enter coefficient a: \"))\n",
    "b = float(input(\"Enter coefficient b: \"))\n",
    "c = float(input(\"Enter coefficient c: \"))\n",
    "\n",
    "# Calculate and display the solutions\n",
    "solutions = solve_quadratic(a, b, c)\n",
    "print(\"\\nSolutions:\")\n",
    "for i, root in enumerate(solutions, start=1):\n",
    "    print(f\"Root {i}: {root}\")\n"
   ]
  },
  {
   "cell_type": "code",
   "execution_count": 18,
   "metadata": {},
   "outputs": [
    {
     "name": "stdout",
     "output_type": "stream",
     "text": [
      "Before swapping value are = \n",
      "var1 =  1\n",
      "va2 =  2\n",
      "After swapping a variable : = \n",
      "var1 =  2\n",
      "var2 =  1\n"
     ]
    }
   ],
   "source": [
    "# 5. Write a Python program to swap two variables without temp variable?\n",
    "\n",
    "var1 = eval(input(\"enter firsrt variable value\"))\n",
    "var2 = eval(input(\"enter second variable value\"))\n",
    "\n",
    "print(\"Before swapping value are = \")\n",
    "print(\"var1 = \" , var1)\n",
    "print(\"va2 = \",var2)\n",
    "var1 , var2 = var2 , var1\n",
    "\n",
    "print(\"After swapping a variable : = \")\n",
    "print(\"var1 = \", var1)\n",
    "print(\"var2 = \" , var2)"
   ]
  },
  {
   "cell_type": "code",
   "execution_count": null,
   "metadata": {},
   "outputs": [],
   "source": []
  }
 ],
 "metadata": {
  "kernelspec": {
   "display_name": "Python 3",
   "language": "python",
   "name": "python3"
  },
  "language_info": {
   "codemirror_mode": {
    "name": "ipython",
    "version": 3
   },
   "file_extension": ".py",
   "mimetype": "text/x-python",
   "name": "python",
   "nbconvert_exporter": "python",
   "pygments_lexer": "ipython3",
   "version": "3.11.4"
  }
 },
 "nbformat": 4,
 "nbformat_minor": 2
}
